{
 "cells": [
  {
   "cell_type": "markdown",
   "metadata": {},
   "source": [
    "## Data Source list to use:\n",
    "### my_days = ['yesterday','today','tomorrow','dayafter']"
   ]
  },
  {
   "cell_type": "markdown",
   "metadata": {},
   "source": [
    "#### Creating list(data source):"
   ]
  },
  {
   "cell_type": "code",
   "execution_count": 1,
   "metadata": {},
   "outputs": [],
   "source": [
    "my_days = ['yesterday','today','tomorrow','dayafter']"
   ]
  },
  {
   "cell_type": "markdown",
   "metadata": {},
   "source": [
    "## Task: Print the values in the list capitalizing the characters in incremental order in the following way:"
   ]
  },
  {
   "cell_type": "code",
   "execution_count": 2,
   "metadata": {},
   "outputs": [],
   "source": [
    "# Yesterday\n",
    "# TOday\n",
    "# TOMorrow\n",
    "# DAYAfter\n",
    "\n",
    "#Hint: for and list functions, string functions"
   ]
  },
  {
   "cell_type": "markdown",
   "metadata": {},
   "source": [
    "#### Code:"
   ]
  },
  {
   "cell_type": "code",
   "execution_count": 3,
   "metadata": {},
   "outputs": [
    {
     "name": "stdout",
     "output_type": "stream",
     "text": [
      "Yesterday\n",
      "TOday\n",
      "TOMorrow\n",
      "DAYAfter\n"
     ]
    }
   ],
   "source": [
    "my_day = []\n",
    "for x in my_days:\n",
    "    my_day.append(x)\n",
    "    output = x[:my_day.index(x)+1].upper() + x[my_day.index(x)+1:]\n",
    "    print (output)"
   ]
  }
 ],
 "metadata": {
  "kernelspec": {
   "display_name": "Python 3",
   "language": "python",
   "name": "python3"
  },
  "language_info": {
   "codemirror_mode": {
    "name": "ipython",
    "version": 3
   },
   "file_extension": ".py",
   "mimetype": "text/x-python",
   "name": "python",
   "nbconvert_exporter": "python",
   "pygments_lexer": "ipython3",
   "version": "3.6.4"
  }
 },
 "nbformat": 4,
 "nbformat_minor": 2
}
