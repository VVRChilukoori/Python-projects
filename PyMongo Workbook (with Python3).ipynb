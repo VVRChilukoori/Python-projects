{
 "cells": [
  {
   "cell_type": "markdown",
   "metadata": {},
   "source": [
    "## PyMongo Workbook (with Python3)"
   ]
  },
  {
   "cell_type": "markdown",
   "metadata": {},
   "source": [
    "### install the package pymongo for the first time"
   ]
  },
  {
   "cell_type": "code",
   "execution_count": 6,
   "metadata": {},
   "outputs": [
    {
     "name": "stdout",
     "output_type": "stream",
     "text": [
      "Collecting pymongo\n",
      "  Downloading pymongo-3.5.1-cp27-cp27m-win_amd64.whl (273kB)\n",
      "Installing collected packages: pymongo\n",
      "Successfully installed pymongo-3.5.1\n"
     ]
    }
   ],
   "source": [
    "!pip install pymongo            "
   ]
  },
  {
   "cell_type": "markdown",
   "metadata": {},
   "source": [
    "### Import the package"
   ]
  },
  {
   "cell_type": "code",
   "execution_count": 7,
   "metadata": {},
   "outputs": [],
   "source": [
    "from pymongo import MongoClient"
   ]
  },
  {
   "cell_type": "markdown",
   "metadata": {},
   "source": [
    "The copy and past the URL is from mlab.com and supply Dbuser and password"
   ]
  },
  {
   "cell_type": "markdown",
   "metadata": {},
   "source": [
    "### For this project, I am using the online [mlab](https://mlab.com) account. You need to create a database and create user for that database. After that you need to go to [databases](https://mlab.com/databases) under your account and click on the database created to get the link to that database"
   ]
  },
  {
   "cell_type": "code",
   "execution_count": 3,
   "metadata": {},
   "outputs": [],
   "source": [
    "MONGO_URL = \"mongodb://<dbuser>:<dbpassword>@ds12345.mlab.com:12345/<dbname>\""
   ]
  },
  {
   "cell_type": "markdown",
   "metadata": {},
   "source": [
    "### Establish the connection"
   ]
  },
  {
   "cell_type": "code",
   "execution_count": 9,
   "metadata": {},
   "outputs": [],
   "source": [
    "client = MongoClient(MONGO_URL)\n",
    "db = client.get_database()"
   ]
  },
  {
   "cell_type": "code",
   "execution_count": 1,
   "metadata": {},
   "outputs": [],
   "source": [
    "#connection = MongoClient(ds12345, 12345)\n",
    "#db = connection[<dbname>]\n",
    "#db.authenticate(<mlab_username>, <pwd>)"
   ]
  },
  {
   "cell_type": "markdown",
   "metadata": {},
   "source": [
    "1. Creating the collection(RDBMS table) \"heroes\" in database \"dbname\"\n",
    "2. The documents are specified with Key-Value paris.\n",
    "   Here 'name' is key 'batmant' is value \n",
    "   similarly 'secret identity' and 'portrayals' are keys.\n",
    "3. Under portrayls the sub-documents are given \n",
    "   Each sub-document is having key-value pairs.\n",
    "   Here 'year' and  'actor' are keys."
   ]
  },
  {
   "cell_type": "code",
   "execution_count": 11,
   "metadata": {},
   "outputs": [],
   "source": [
    "heroes = [  {'name':'Batman', 'secret identity':'Bruce Wayne',\n",
    "             'portrayals': [ {'year':1989,'actor':'Michael Keaton'},\n",
    "                             {'year':1995,'actor':'Val Kilmer'},\n",
    "                             {'year':1997,'actor':'George Clooney'},\n",
    "                             {'year':2005,'actor':'Christian Bale'},\n",
    "                             {'year':2016,'actor':'Ben Affleck'} ] },\n",
    "            {'name':'Superman', 'secret identity':'Clark Kent',\n",
    "             'portrayals': [ {'year':1978,'actor':'Christopher Reeve'},\n",
    "                             {'year':2006,'actor':'Brandon Routh'},\n",
    "                             {'year':2013,'actor':'Henry Cavill'} ] },\n",
    "            {'name':'Aquaman', 'secret identity':'Arthur Curry',\n",
    "             'portrayals': [ {'year':2016, 'actor':'Jason Momoa'} ] },\n",
    "            {'name':'Antman','secret identity':'Hank Pym',\n",
    "             'portrayals': [ {'year':2015, 'actor':'Michael Douglas'},\n",
    "                             {'year':2015, 'actor':'Paul Rudd'} ] }  ]"
   ]
  },
  {
   "cell_type": "markdown",
   "metadata": {},
   "source": [
    "Inserting the data into the collection heroes_col\n",
    "\n",
    "The options to insert are as below. \n",
    "\n",
    "1. insert - **depricated so use below 2 options**\n",
    "2. insert_many \n",
    "3. insert_one"
   ]
  },
  {
   "cell_type": "code",
   "execution_count": 12,
   "metadata": {},
   "outputs": [
    {
     "data": {
      "text/plain": [
       "<pymongo.results.InsertManyResult at 0xc1499c2ac8>"
      ]
     },
     "execution_count": 12,
     "metadata": {},
     "output_type": "execute_result"
    }
   ],
   "source": [
    "db.heroes_col.insert_many(heroes)"
   ]
  },
  {
   "cell_type": "markdown",
   "metadata": {},
   "source": [
    "1. To check for options available with insert \n",
    "   give db.<col name>.insert and then tab, it will show all the options\n",
    "2. The below command will help to get the syntax of the functions\n",
    "   db.heroes_col.insert_many?"
   ]
  },
  {
   "cell_type": "code",
   "execution_count": 14,
   "metadata": {},
   "outputs": [],
   "source": [
    "# 2\n",
    "db.heroes_col.insert_many?"
   ]
  },
  {
   "cell_type": "markdown",
   "metadata": {},
   "source": [
    "Check for the number of records in the collection"
   ]
  },
  {
   "cell_type": "code",
   "execution_count": 15,
   "metadata": {},
   "outputs": [
    {
     "data": {
      "text/plain": [
       "4"
      ]
     },
     "execution_count": 15,
     "metadata": {},
     "output_type": "execute_result"
    }
   ],
   "source": [
    "db.heroes_col.count()"
   ]
  },
  {
   "cell_type": "markdown",
   "metadata": {},
   "source": [
    "Selecting the recrods from collection\n",
    "1. To select records based on criteria\n",
    "   a. The criteria should be specified first with in {}\n",
    "   b. If the object id is to be suppressed then use {\"_id\":0}.\n",
    "      To show the object id also in the output either {\"_id\":0} can be removed or {\"_id\":1} can be specified\n",
    "      \n",
    "2. Different options to select the records \n",
    "   i. find \n",
    "   ii. find_one"
   ]
  },
  {
   "cell_type": "code",
   "execution_count": 152,
   "metadata": {
    "collapsed": true
   },
   "outputs": [],
   "source": [
    "db.heroes_col.find?"
   ]
  },
  {
   "cell_type": "code",
   "execution_count": 138,
   "metadata": {},
   "outputs": [
    {
     "data": {
      "text/plain": [
       "['portrayals', 'name', 'secret identity']"
      ]
     },
     "execution_count": 138,
     "metadata": {},
     "output_type": "execute_result"
    }
   ],
   "source": [
    "#list(db.heroes_col.find_one({\"name\":\"Antman\"},{\"_id\":0}))"
   ]
  },
  {
   "cell_type": "code",
   "execution_count": 139,
   "metadata": {},
   "outputs": [
    {
     "data": {
      "text/plain": [
       "[{'name': 'Antman',\n",
       "  'portrayals': [{'actor': 'Michael Douglas', 'year': 2015},\n",
       "   {'actor': 'Paul Rudd', 'year': 2015}],\n",
       "  'secret identity': 'Hank Pym'}]"
      ]
     },
     "execution_count": 139,
     "metadata": {},
     "output_type": "execute_result"
    }
   ],
   "source": [
    "# with _id:0\n",
    "list(db.heroes_col.find({\"name\":\"Antman\"},{\"_id\":0}))"
   ]
  },
  {
   "cell_type": "code",
   "execution_count": 140,
   "metadata": {},
   "outputs": [
    {
     "data": {
      "text/plain": [
       "[{'_id': ObjectId('59fbb3e04bb11249b81ac3e6'),\n",
       "  'name': 'Antman',\n",
       "  'portrayals': [{'actor': 'Michael Douglas', 'year': 2015},\n",
       "   {'actor': 'Paul Rudd', 'year': 2015}],\n",
       "  'secret identity': 'Hank Pym'}]"
      ]
     },
     "execution_count": 140,
     "metadata": {},
     "output_type": "execute_result"
    }
   ],
   "source": [
    "# without _id:0\n",
    "list(db.heroes_col.find({\"name\":\"Antman\"}))"
   ]
  },
  {
   "cell_type": "markdown",
   "metadata": {},
   "source": [
    "Fetching the all the documents from a collection"
   ]
  },
  {
   "cell_type": "code",
   "execution_count": null,
   "metadata": {
    "collapsed": true
   },
   "outputs": [],
   "source": [
    "a = list(db.heroes_col.find()"
   ]
  },
  {
   "cell_type": "code",
   "execution_count": 150,
   "metadata": {},
   "outputs": [],
   "source": [
    "a = list(db.heroes_col.find({},{\"_id\":0,\"secret identity\":1}))"
   ]
  },
  {
   "cell_type": "code",
   "execution_count": 151,
   "metadata": {},
   "outputs": [
    {
     "data": {
      "text/plain": [
       "[{'secret identity': 'Bruce Wayne'},\n",
       " {'secret identity': 'Clark Kent'},\n",
       " {'secret identity': 'Arthur Curry'},\n",
       " {'secret identity': 'Hank Pym'}]"
      ]
     },
     "execution_count": 151,
     "metadata": {},
     "output_type": "execute_result"
    }
   ],
   "source": [
    "a"
   ]
  },
  {
   "cell_type": "markdown",
   "metadata": {},
   "source": [
    "**Different comparison values**\n",
    "\n",
    "+ $eq\tMatches values that are equal to a specified value.                                                    \n",
    "+ $gt\tMatches values that are greater than a specified value.                                                     \n",
    "+ $gte\tMatches values that are greater than or equal to a specified value.                                   \n",
    "+ $in\tMatches any of the values specified in an array.                                                 \n",
    "+ $lt\tMatches values that are less than a specified value.                                                    \n",
    "+ $lte\tMatches values that are less than or equal to a specified value.                                              \n",
    "+ $ne\tMatches all values that are not equal to a specified value.                                                           \n",
    "+ $nin\tMatches none of the values specified in an array.                                                                         "
   ]
  },
  {
   "cell_type": "markdown",
   "metadata": {},
   "source": [
    "**Reference for more on Operators**\n",
    "\n",
    "+ \"https://docs.mongodb.com/manual/reference/operator/query/\"  \n",
    "\n"
   ]
  },
  {
   "cell_type": "code",
   "execution_count": 153,
   "metadata": {},
   "outputs": [
    {
     "data": {
      "text/plain": [
       "[{'name': 'Batman',\n",
       "  'portrayals': [{'actor': 'Michael Keaton', 'year': 1989},\n",
       "   {'actor': 'Val Kilmer', 'year': 1995},\n",
       "   {'actor': 'George Clooney', 'year': 1997},\n",
       "   {'actor': 'Christian Bale', 'year': 2005},\n",
       "   {'actor': 'Ben Affleck', 'year': 2016}],\n",
       "  'secret identity': 'Bruce Wayne'},\n",
       " {'name': 'Superman',\n",
       "  'portrayals': [{'actor': 'Christopher Reeve', 'year': 1978},\n",
       "   {'actor': 'Brandon Routh', 'year': 2006},\n",
       "   {'actor': 'Henry Cavill', 'year': 2013}],\n",
       "  'secret identity': 'Clark Kent'}]"
      ]
     },
     "execution_count": 153,
     "metadata": {},
     "output_type": "execute_result"
    }
   ],
   "source": [
    "# Selecting the records where the value of key \"name\" is greater than or equal to \"B\" and supressing object id\n",
    "list( db.heroes_col.find({\"name\":{\"$gte\":\"B\"}},{\"_id\":0}) )"
   ]
  },
  {
   "cell_type": "code",
   "execution_count": 154,
   "metadata": {},
   "outputs": [
    {
     "data": {
      "text/plain": [
       "[{'name': 'Superman',\n",
       "  'portrayals': [{'actor': 'Christopher Reeve', 'year': 1978},\n",
       "   {'actor': 'Brandon Routh', 'year': 2006},\n",
       "   {'actor': 'Henry Cavill', 'year': 2013}],\n",
       "  'secret identity': 'Clark Kent'}]"
      ]
     },
     "execution_count": 154,
     "metadata": {},
     "output_type": "execute_result"
    }
   ],
   "source": [
    "# Conditions on sub documents here portrayals is main key and actor is sub key\n",
    "list(db.heroes_col.find({\"portrayals.actor\":\"Christopher Reeve\"},{\"_id\":0}))"
   ]
  },
  {
   "cell_type": "code",
   "execution_count": 155,
   "metadata": {},
   "outputs": [
    {
     "data": {
      "text/plain": [
       "[{'name': 'Batman',\n",
       "  'portrayals': [{'actor': 'Michael Keaton', 'year': 1989},\n",
       "   {'actor': 'Val Kilmer', 'year': 1995},\n",
       "   {'actor': 'George Clooney', 'year': 1997},\n",
       "   {'actor': 'Christian Bale', 'year': 2005},\n",
       "   {'actor': 'Ben Affleck', 'year': 2016}],\n",
       "  'secret identity': 'Bruce Wayne'},\n",
       " {'name': 'Superman',\n",
       "  'portrayals': [{'actor': 'Christopher Reeve', 'year': 1978},\n",
       "   {'actor': 'Brandon Routh', 'year': 2006},\n",
       "   {'actor': 'Henry Cavill', 'year': 2013}],\n",
       "  'secret identity': 'Clark Kent'}]"
      ]
     },
     "execution_count": 155,
     "metadata": {},
     "output_type": "execute_result"
    }
   ],
   "source": [
    "list(db.heroes_col.find({\"portrayals.year\":{\"$gte\":2000,\"$lt\":2010}},{\"_id\":0}))"
   ]
  },
  {
   "cell_type": "markdown",
   "metadata": {},
   "source": [
    "Projecting the required keys only. The below depicts selecting \"name\" and \"portrayals\""
   ]
  },
  {
   "cell_type": "code",
   "execution_count": 160,
   "metadata": {},
   "outputs": [
    {
     "data": {
      "text/plain": [
       "[{'name': 'Batman', 'portrayals': [{'actor': 'Christian Bale', 'year': 2005}]},\n",
       " {'name': 'Superman',\n",
       "  'portrayals': [{'actor': 'Brandon Routh', 'year': 2006}]}]"
      ]
     },
     "execution_count": 160,
     "metadata": {},
     "output_type": "execute_result"
    }
   ],
   "source": [
    "list(db.heroes_col.find({\"portrayals.year\":{\"$gte\":2000,\"$lt\":2010}}, {\"_id\":0,\"name\":1,\"portrayals.$\":1}))"
   ]
  },
  {
   "cell_type": "code",
   "execution_count": 161,
   "metadata": {},
   "outputs": [
    {
     "data": {
      "text/plain": [
       "[{'name': 'Batman', 'secret identity': 'Bruce Wayne'},\n",
       " {'name': 'Superman', 'secret identity': 'Clark Kent'},\n",
       " {'name': 'Aquaman', 'secret identity': 'Arthur Curry'},\n",
       " {'name': 'Antman', 'secret identity': 'Hank Pym'}]"
      ]
     },
     "execution_count": 161,
     "metadata": {},
     "output_type": "execute_result"
    }
   ],
   "source": [
    "list(db.heroes_col.find({},{\"_id\":0,\"name\":1,\"secret identity\":1}))"
   ]
  },
  {
   "cell_type": "code",
   "execution_count": 70,
   "metadata": {},
   "outputs": [],
   "source": [
    "a = dict(db.heroes_col.find({},{\"_id\":0,\"name\":1,\"secret identity\":1}))"
   ]
  },
  {
   "cell_type": "code",
   "execution_count": 71,
   "metadata": {},
   "outputs": [
    {
     "data": {
      "text/plain": [
       "{'name': 'secret identity'}"
      ]
     },
     "execution_count": 71,
     "metadata": {},
     "output_type": "execute_result"
    }
   ],
   "source": [
    "a"
   ]
  },
  {
   "cell_type": "markdown",
   "metadata": {},
   "source": []
  },
  {
   "cell_type": "code",
   "execution_count": 16,
   "metadata": {},
   "outputs": [
    {
     "data": {
      "text/plain": [
       "[]"
      ]
     },
     "execution_count": 16,
     "metadata": {},
     "output_type": "execute_result"
    }
   ],
   "source": [
    "list(db.heroes_col.find({\"portrayals.actor\":[\"Christopher Reeve\",\"Ben Affleck\"]},{\"_id\":0}))"
   ]
  },
  {
   "cell_type": "code",
   "execution_count": 17,
   "metadata": {},
   "outputs": [
    {
     "data": {
      "text/plain": [
       "[{'name': 'Superman',\n",
       "  'portrayals': [{'actor': 'Christopher Reeve', 'year': 1978},\n",
       "   {'actor': 'Brandon Routh', 'year': 2006},\n",
       "   {'actor': 'Henry Cavill', 'year': 2013}],\n",
       "  'secret identity': 'Clark Kent'}]"
      ]
     },
     "execution_count": 17,
     "metadata": {},
     "output_type": "execute_result"
    }
   ],
   "source": [
    "list(db.heroes_col.find({\"portrayals.actor\":\"Christopher Reeve\"},{\"_id\":0}))"
   ]
  },
  {
   "cell_type": "code",
   "execution_count": 162,
   "metadata": {},
   "outputs": [
    {
     "data": {
      "text/plain": [
       "1"
      ]
     },
     "execution_count": 162,
     "metadata": {},
     "output_type": "execute_result"
    }
   ],
   "source": [
    "# count\n",
    "db.heroes_col.count({\"portrayals.actor\":\"Christopher Reeve\"})"
   ]
  },
  {
   "cell_type": "code",
   "execution_count": 76,
   "metadata": {
    "collapsed": true
   },
   "outputs": [],
   "source": [
    "# New Example"
   ]
  },
  {
   "cell_type": "code",
   "execution_count": 18,
   "metadata": {},
   "outputs": [
    {
     "data": {
      "text/plain": [
       "<pymongo.results.InsertManyResult at 0xc1499f4d88>"
      ]
     },
     "execution_count": 18,
     "metadata": {},
     "output_type": "execute_result"
    }
   ],
   "source": [
    "db.inventory.insert_many([\n",
    "    {\"item\": \"journal\",\n",
    "     \"qty\": 25,\n",
    "     \"tags\": [\"blank\", \"red\"],\n",
    "     \"dim_cm\": [14, 21]},\n",
    "    {\"item\": \"notebook\",\n",
    "     \"qty\": 50,\n",
    "     \"tags\": [\"red\", \"blank\"],\n",
    "     \"dim_cm\": [14, 21]},\n",
    "    {\"item\": \"paper\",\n",
    "     \"qty\": 100,\n",
    "     \"tags\": [\"red\", \"blank\", \"plain\"],\n",
    "     \"dim_cm\": [14, 21]},\n",
    "    {\"item\": \"planner\",\n",
    "     \"qty\": 75,\n",
    "     \"tags\": [\"blank\", \"red\"],\n",
    "     \"dim_cm\": [22.85, 30]},\n",
    "    {\"item\": \"postcard\",\n",
    "     \"qty\": 45,\n",
    "     \"tags\": [\"blue\"],\n",
    "     \"dim_cm\": [10, 15.25]}])"
   ]
  },
  {
   "cell_type": "markdown",
   "metadata": {},
   "source": [
    "Match on Arrays:"
   ]
  },
  {
   "cell_type": "code",
   "execution_count": 19,
   "metadata": {},
   "outputs": [
    {
     "data": {
      "text/plain": [
       "[{'dim_cm': [14, 21], 'item': 'notebook', 'qty': 50, 'tags': ['red', 'blank']}]"
      ]
     },
     "execution_count": 19,
     "metadata": {},
     "output_type": "execute_result"
    }
   ],
   "source": [
    "list(db.inventory.find({\"tags\": [\"red\", \"blank\"]},{\"_id\":0}))"
   ]
  },
  {
   "cell_type": "code",
   "execution_count": 20,
   "metadata": {},
   "outputs": [
    {
     "data": {
      "text/plain": [
       "[]"
      ]
     },
     "execution_count": 20,
     "metadata": {},
     "output_type": "execute_result"
    }
   ],
   "source": [
    "list(db.inventory.find({\"tags\": [\"red\"]},{\"_id\":0}))"
   ]
  },
  {
   "cell_type": "code",
   "execution_count": 21,
   "metadata": {},
   "outputs": [
    {
     "data": {
      "text/plain": [
       "[{'dim_cm': [14, 21], 'item': 'journal', 'qty': 25, 'tags': ['blank', 'red']},\n",
       " {'dim_cm': [14, 21], 'item': 'notebook', 'qty': 50, 'tags': ['red', 'blank']},\n",
       " {'dim_cm': [14, 21],\n",
       "  'item': 'paper',\n",
       "  'qty': 100,\n",
       "  'tags': ['red', 'blank', 'plain']},\n",
       " {'dim_cm': [22.85, 30],\n",
       "  'item': 'planner',\n",
       "  'qty': 75,\n",
       "  'tags': ['blank', 'red']}]"
      ]
     },
     "execution_count": 21,
     "metadata": {},
     "output_type": "execute_result"
    }
   ],
   "source": [
    "list(db.inventory.find({\"tags\": \"red\"},{\"_id\":0}))"
   ]
  },
  {
   "cell_type": "markdown",
   "metadata": {},
   "source": [
    "Multiple Conditions:"
   ]
  },
  {
   "cell_type": "code",
   "execution_count": 22,
   "metadata": {},
   "outputs": [
    {
     "data": {
      "text/plain": [
       "[{'dim_cm': [22.85, 30],\n",
       "  'item': 'planner',\n",
       "  'qty': 75,\n",
       "  'tags': ['blank', 'red']}]"
      ]
     },
     "execution_count": 22,
     "metadata": {},
     "output_type": "execute_result"
    }
   ],
   "source": [
    "list(db.inventory.find({\"dim_cm\": {\"$gt\": 25}},{\"_id\":0}))"
   ]
  },
  {
   "cell_type": "code",
   "execution_count": 23,
   "metadata": {},
   "outputs": [
    {
     "data": {
      "text/plain": [
       "[{'dim_cm': [14, 21], 'item': 'journal', 'qty': 25, 'tags': ['blank', 'red']},\n",
       " {'dim_cm': [14, 21], 'item': 'notebook', 'qty': 50, 'tags': ['red', 'blank']},\n",
       " {'dim_cm': [14, 21],\n",
       "  'item': 'paper',\n",
       "  'qty': 100,\n",
       "  'tags': ['red', 'blank', 'plain']},\n",
       " {'dim_cm': [10, 15.25], 'item': 'postcard', 'qty': 45, 'tags': ['blue']}]"
      ]
     },
     "execution_count": 23,
     "metadata": {},
     "output_type": "execute_result"
    }
   ],
   "source": [
    "list(db.inventory.find({\"dim_cm\": {\"$gt\": 15, \"$lt\": 20}},{\"_id\":0}))"
   ]
  },
  {
   "cell_type": "code",
   "execution_count": 24,
   "metadata": {},
   "outputs": [],
   "source": [
    "#Instead of list cursor can be itearated and results can be verified"
   ]
  },
  {
   "cell_type": "code",
   "execution_count": 25,
   "metadata": {},
   "outputs": [
    {
     "data": {
      "text/plain": [
       "<pymongo.cursor.Cursor at 0xc149a306d8>"
      ]
     },
     "execution_count": 25,
     "metadata": {},
     "output_type": "execute_result"
    }
   ],
   "source": [
    "db.inventory.find({\"dim_cm\": {\"$gt\": 15, \"$lt\": 20}},{\"_id\":0})"
   ]
  },
  {
   "cell_type": "code",
   "execution_count": 26,
   "metadata": {},
   "outputs": [
    {
     "name": "stdout",
     "output_type": "stream",
     "text": [
      "{'item': 'journal', 'qty': 25, 'tags': ['blank', 'red'], 'dim_cm': [14, 21]}\n",
      "{'item': 'notebook', 'qty': 50, 'tags': ['red', 'blank'], 'dim_cm': [14, 21]}\n",
      "{'item': 'paper', 'qty': 100, 'tags': ['red', 'blank', 'plain'], 'dim_cm': [14, 21]}\n",
      "{'item': 'postcard', 'qty': 45, 'tags': ['blue'], 'dim_cm': [10, 15.25]}\n"
     ]
    }
   ],
   "source": [
    "cursor = db.inventory.find({\"dim_cm\": {\"$gt\": 15, \"$lt\": 20}},{\"_id\":0})\n",
    "for doc in cursor: \n",
    "    print(doc)"
   ]
  },
  {
   "cell_type": "code",
   "execution_count": 28,
   "metadata": {},
   "outputs": [
    {
     "data": {
      "text/plain": [
       "[{'dim_cm': [10, 15.25], 'item': 'postcard', 'qty': 45, 'tags': ['blue']}]"
      ]
     },
     "execution_count": 28,
     "metadata": {},
     "output_type": "execute_result"
    }
   ],
   "source": [
    "#elemMatch\n",
    "list(db.inventory.find(\n",
    "    {\"dim_cm\": {\"$elemMatch\": {\"$gt\": 15, \"$lt\": 20}}},{\"_id\":0}))"
   ]
  },
  {
   "cell_type": "code",
   "execution_count": 29,
   "metadata": {},
   "outputs": [
    {
     "data": {
      "text/plain": [
       "[{'dim_cm': [14, 21],\n",
       "  'item': 'paper',\n",
       "  'qty': 100,\n",
       "  'tags': ['red', 'blank', 'plain']}]"
      ]
     },
     "execution_count": 29,
     "metadata": {},
     "output_type": "execute_result"
    }
   ],
   "source": [
    "#Size\n",
    "list(db.inventory.find({\"tags\": {\"$size\": 3}},{\"_id\":0}))"
   ]
  },
  {
   "cell_type": "code",
   "execution_count": 30,
   "metadata": {},
   "outputs": [
    {
     "data": {
      "text/plain": [
       "[{'_id': ObjectId('5b06a6434bb11232342da84e'),\n",
       "  'dim_cm': [22.85, 30],\n",
       "  'item': 'planner',\n",
       "  'qty': 75,\n",
       "  'tags': ['blank', 'red']}]"
      ]
     },
     "execution_count": 30,
     "metadata": {},
     "output_type": "execute_result"
    }
   ],
   "source": [
    "#dot notation\n",
    "list(db.inventory.find({\"dim_cm.1\": {\"$gt\": 25}}))"
   ]
  },
  {
   "cell_type": "markdown",
   "metadata": {},
   "source": [
    "# Logical Operators"
   ]
  },
  {
   "cell_type": "code",
   "execution_count": 31,
   "metadata": {},
   "outputs": [
    {
     "data": {
      "text/plain": [
       "[]"
      ]
     },
     "execution_count": 31,
     "metadata": {},
     "output_type": "execute_result"
    }
   ],
   "source": [
    "list(db.inventory.find( {\"$and\": [ { \"price\": {\"$ne\": 1.99 } }, { \"price\": {\"$exists\": \"true\" } } ] } ))"
   ]
  },
  {
   "cell_type": "code",
   "execution_count": 32,
   "metadata": {},
   "outputs": [
    {
     "data": {
      "text/plain": [
       "[]"
      ]
     },
     "execution_count": 32,
     "metadata": {},
     "output_type": "execute_result"
    }
   ],
   "source": [
    "list(db.inventory.find( { \"price\": { \"$ne\": 1.99, \"$exists\": \"true\" } } ))"
   ]
  },
  {
   "cell_type": "markdown",
   "metadata": {},
   "source": [
    "**Reference for more on Operators**\n",
    "\n",
    "+ \"https://docs.mongodb.com/manual/reference/operator/query/and/#op._S_and\"  \n",
    "\n"
   ]
  },
  {
   "cell_type": "markdown",
   "metadata": {},
   "source": [
    "Regular Expressions"
   ]
  },
  {
   "cell_type": "code",
   "execution_count": 33,
   "metadata": {},
   "outputs": [
    {
     "data": {
      "text/plain": [
       "<pymongo.results.InsertManyResult at 0xc149a34408>"
      ]
     },
     "execution_count": 33,
     "metadata": {},
     "output_type": "execute_result"
    }
   ],
   "source": [
    "db.products.insert_many([{ \"_id\" : 100, \"sku\" : \"abc123\", \"description\" : \"Single line description.\" },\n",
    "{ \"_id\" : 101, \"sku\" : \"abc789\", \"description\" : \"First line\\nSecond line\" },\n",
    "{ \"_id\" : 102, \"sku\" : \"xyz456\", \"description\" : \"Many spaces before     line\" },\n",
    "{ \"_id\" : 103, \"sku\" : \"xyz789\", \"description\" : \"Multiple\\nline description\" }])"
   ]
  },
  {
   "cell_type": "code",
   "execution_count": 34,
   "metadata": {},
   "outputs": [
    {
     "data": {
      "text/plain": [
       "[]"
      ]
     },
     "execution_count": 34,
     "metadata": {},
     "output_type": "execute_result"
    }
   ],
   "source": [
    "list(db.products.find( { \"sku\": { \"$regex\": \"/789$/\" } } ))"
   ]
  },
  {
   "cell_type": "code",
   "execution_count": 35,
   "metadata": {},
   "outputs": [
    {
     "data": {
      "text/plain": [
       "[]"
      ]
     },
     "execution_count": 35,
     "metadata": {},
     "output_type": "execute_result"
    }
   ],
   "source": [
    "list(db.products.find( { \"sku\": {\"$regex\": \"/789$/\" } } ))"
   ]
  },
  {
   "cell_type": "code",
   "execution_count": 36,
   "metadata": {},
   "outputs": [],
   "source": [
    "import re\n"
   ]
  },
  {
   "cell_type": "code",
   "execution_count": 37,
   "metadata": {},
   "outputs": [
    {
     "data": {
      "text/plain": [
       "[]"
      ]
     },
     "execution_count": 37,
     "metadata": {},
     "output_type": "execute_result"
    }
   ],
   "source": [
    "regx = re.compile(\"/789$/\", re.IGNORECASE)\n",
    "list(db.products.find({\"sku\": regx}))"
   ]
  },
  {
   "cell_type": "code",
   "execution_count": 38,
   "metadata": {},
   "outputs": [
    {
     "data": {
      "text/plain": [
       "[]"
      ]
     },
     "execution_count": 38,
     "metadata": {},
     "output_type": "execute_result"
    }
   ],
   "source": [
    "list(db.products.find( { \"sku\": {\"$regex\": regx } } ))"
   ]
  },
  {
   "cell_type": "markdown",
   "metadata": {},
   "source": [
    "SELECT * FROM products\n",
    "WHERE sku like \"%789\";"
   ]
  },
  {
   "cell_type": "code",
   "execution_count": 39,
   "metadata": {},
   "outputs": [
    {
     "data": {
      "text/plain": [
       "<pymongo.results.InsertManyResult at 0xc149a2b2c8>"
      ]
     },
     "execution_count": 39,
     "metadata": {},
     "output_type": "execute_result"
    }
   ],
   "source": [
    "db.student.insert_many(\n",
    "[\n",
    "        {\n",
    "                \"f_name\" : \"Zenny\",\n",
    "                \"sex\" : \"Female\",\n",
    "                \"class\" : \"VI\",\n",
    "                \"age\" : 12,\n",
    "                \"grd_point\" : 32.6342\n",
    "        },\n",
    "        {\n",
    "                \"f_name\" : \"Paul\",\n",
    "                \"sex\" : \"Male\",\n",
    "                \"class\" : \"VII\",\n",
    "                \"age\" : 13,\n",
    "                \"grd_point\" : 29.5904\n",
    "        },\n",
    "        {\n",
    "                \"f_name\" : \"Tom\",\n",
    "                \"sex\" : \"Male\",\n",
    "                \"class\" : \"VI\",\n",
    "                \"age\" : 11,\n",
    "                \"grd_point\" : 30.1257\n",
    "        },\n",
    "        {\n",
    "                \"f_name\" : \"Lassy\",\n",
    "                \"sex\" : \"Female\",\n",
    "                \"class\" : \"VIII\",\n",
    "                \"age\" : 13,\n",
    "                \"grd_point\" : 28.2514\n",
    "        },\n",
    "        {\n",
    "                \"f_name\" : \"Peter\",\n",
    "                \"sex\" : \"Male\",\n",
    "                \"class\" : \"VI\",\n",
    "                \"age\" : 11,\n",
    "                \"grd_point\" : 31.5201\n",
    "        }\n",
    "]\n",
    " )"
   ]
  },
  {
   "cell_type": "code",
   "execution_count": 40,
   "metadata": {},
   "outputs": [],
   "source": [
    "#db.student.find( { f_name: { $regex: 'P.*'} } )"
   ]
  },
  {
   "cell_type": "code",
   "execution_count": 2,
   "metadata": {},
   "outputs": [
    {
     "data": {
      "text/plain": [
       "'C:\\\\Users\\\\VChilukoori\\\\Documents\\\\JupyterNotebooks-Personal'"
      ]
     },
     "execution_count": 2,
     "metadata": {},
     "output_type": "execute_result"
    }
   ],
   "source": [
    "pwd"
   ]
  },
  {
   "cell_type": "code",
   "execution_count": 42,
   "metadata": {},
   "outputs": [],
   "source": [
    "#list(db.student.find().sort( { \"f_name\": 1 } ))"
   ]
  },
  {
   "cell_type": "markdown",
   "metadata": {},
   "source": [
    "https://docs.mongodb.com/manual/reference/operator/aggregation/group/"
   ]
  },
  {
   "cell_type": "code",
   "execution_count": 18,
   "metadata": {},
   "outputs": [],
   "source": [
    "test = [\n",
    "    { \"_id\" : \"01001\", \"city\" : \"AGAWAM\", \"loc\" : [ -72.622739, 42.070206 ], \"pop\" : 15338, \"state\" : \"MA\" }\n",
    ",{ \"_id\" : \"01002\", \"city\" : \"CUSHMAN\", \"loc\" : [ -72.51564999999999, 42.377017 ], \"pop\" : 36963, \"state\" : \"MA\" }\n",
    ",{ \"_id\" : \"01005\", \"city\" : \"BARRE\", \"loc\" : [ -72.10835400000001, 42.409698 ], \"pop\" : 4546, \"state\" : \"MA\" }\n",
    ",{ \"_id\" : \"01007\", \"city\" : \"BELCHERTOWN\", \"loc\" : [ -72.41095300000001, 42.275103 ], \"pop\" : 10579, \"state\" : \"MA\" }\n",
    ",{ \"_id\" : \"01008\", \"city\" : \"BLANDFORD\", \"loc\" : [ -72.936114, 42.182949 ], \"pop\" : 1240, \"state\" : \"MA\" }\n",
    ",{ \"_id\" : \"01010\", \"city\" : \"BRIMFIELD\", \"loc\" : [ -72.188455, 42.116543 ], \"pop\" : 3706, \"state\" : \"MA\" }\n",
    ",{ \"_id\" : \"01011\", \"city\" : \"CHESTER\", \"loc\" : [ -72.988761, 42.279421 ], \"pop\" : 1688, \"state\" : \"MA\" }\n",
    ",{ \"_id\" : \"01012\", \"city\" : \"CHESTERFIELD\", \"loc\" : [ -72.833309, 42.38167 ], \"pop\" : 177, \"state\" : \"MA\" }\n",
    ",{ \"_id\" : \"01013\", \"city\" : \"CHICOPEE\", \"loc\" : [ -72.607962, 42.162046 ], \"pop\" : 23396, \"state\" : \"MA\" }\n",
    ",{ \"_id\" : \"01020\", \"city\" : \"CHICOPEE\", \"loc\" : [ -72.576142, 42.176443 ], \"pop\" : 31495, \"state\" : \"MA\" }\n",
    ",{ \"_id\" : \"01022\", \"city\" : \"WESTOVER AFB\", \"loc\" : [ -72.558657, 42.196672 ], \"pop\" : 1764, \"state\" : \"MA\" }\n",
    ",{ \"_id\" : \"01026\", \"city\" : \"CUMMINGTON\", \"loc\" : [ -72.905767, 42.435296 ], \"pop\" : 1484, \"state\" : \"MA\" }\n",
    ",{ \"_id\" : \"01027\", \"city\" : \"MOUNT TOM\", \"loc\" : [ -72.67992099999999, 42.264319 ], \"pop\" : 16864, \"state\" : \"MA\" }\n",
    ",{ \"_id\" : \"01028\", \"city\" : \"EAST LONGMEADOW\", \"loc\" : [ -72.505565, 42.067203 ], \"pop\" : 13367, \"state\" : \"MA\" }\n",
    ",{ \"_id\" : \"01030\", \"city\" : \"FEEDING HILLS\", \"loc\" : [ -72.675077, 42.07182 ], \"pop\" : 11985, \"state\" : \"MA\" }\n",
    ",{ \"_id\" : \"01031\", \"city\" : \"GILBERTVILLE\", \"loc\" : [ -72.19858499999999, 42.332194 ], \"pop\" : 2385, \"state\" : \"LA\" }\n",
    ",{ \"_id\" : \"01032\", \"city\" : \"GOSHEN\", \"loc\" : [ -72.844092, 42.466234 ], \"pop\" : 122, \"state\" : \"LA\" }\n",
    ",{ \"_id\" : \"01033\", \"city\" : \"GRANBY\", \"loc\" : [ -72.52000099999999, 42.255704 ], \"pop\" : 5526, \"state\" : \"LA\" }\n",
    ",{ \"_id\" : \"01034\", \"city\" : \"TOLLAND\", \"loc\" : [ -72.908793, 42.070234 ], \"pop\" : 1652, \"state\" : \"MA\" }\n",
    ",{ \"_id\" : \"01035\", \"city\" : \"HADLEY\", \"loc\" : [ -72.571499, 42.36062 ], \"pop\" : 4231, \"state\" : \"LA\" }\n",
    ",{ \"_id\" : \"01036\", \"city\" : \"HAMPDEN\", \"loc\" : [ -72.43182299999999, 42.064756 ], \"pop\" : 4709, \"state\" : \"CA\" }\n",
    ",{ \"_id\" : \"01038\", \"city\" : \"HATFIELD\", \"loc\" : [ -72.61673500000001, 42.38439 ], \"pop\" : 3184, \"state\" : \"CA\" }\n",
    ",{ \"_id\" : \"01039\", \"city\" : \"HAYDENVILLE\", \"loc\" : [ -72.70317799999999, 42.381799 ], \"pop\" : 1387, \"state\" : \"CA\" }\n",
    ",{ \"_id\" : \"01040\", \"city\" : \"HOLYOKE\", \"loc\" : [ -72.626193, 42.202007 ], \"pop\" : 43704, \"state\" : \"MA\" }\n",
    ",{ \"_id\" : \"01050\", \"city\" : \"HUNTINGTON\", \"loc\" : [ -72.873341, 42.265301 ], \"pop\" : 2084, \"state\" : \"MA\" }\n",
    ",{ \"_id\" : \"01053\", \"city\" : \"LEEDS\", \"loc\" : [ -72.70340299999999, 42.354292 ], \"pop\" : 1350, \"state\" : \"NY\" }\n",
    ",{ \"_id\" : \"01054\", \"city\" : \"LEVERETT\", \"loc\" : [ -72.499334, 42.46823 ], \"pop\" : 1748, \"state\" : \"NY\" }\n",
    ",{ \"_id\" : \"01056\", \"city\" : \"LUDLOW\", \"loc\" : [ -72.471012, 42.172823 ], \"pop\" : 18820, \"state\" : \"NY\" }\n",
    ",{ \"_id\" : \"01057\", \"city\" : \"MONSON\", \"loc\" : [ -72.31963399999999, 42.101017 ], \"pop\" : 8194, \"state\" : \"NY\" }\n",
    ",{ \"_id\" : \"01060\", \"city\" : \"FLORENCE\", \"loc\" : [ -72.654245, 42.324662 ], \"pop\" : 27939, \"state\" : \"NY\" }\n",
    ",{ \"_id\" : \"01068\", \"city\" : \"OAKHAM\", \"loc\" : [ -72.051265, 42.348033 ], \"pop\" : 1503, \"state\" : \"NJ\" }\n",
    ",{ \"_id\" : \"01069\", \"city\" : \"PALMER\", \"loc\" : [ -72.328785, 42.176233 ], \"pop\" : 9778, \"state\" : \"NJ\" }\n",
    ",{ \"_id\" : \"01070\", \"city\" : \"PLAINFIELD\", \"loc\" : [ -72.918289, 42.514393 ], \"pop\" : 571, \"state\" : \"NJ\" }\n",
    ",{ \"_id\" : \"01071\", \"city\" : \"RUSSELL\", \"loc\" : [ -72.840343, 42.147063 ], \"pop\" : 608, \"state\" : \"MA\" }\n",
    ",{ \"_id\" : \"01072\", \"city\" : \"SHUTESBURY\", \"loc\" : [ -72.421342, 42.481968 ], \"pop\" : 1533, \"state\" : \"MA\" }\n",
    ",{ \"_id\" : \"01073\", \"city\" : \"SOUTHAMPTON\", \"loc\" : [ -72.719381, 42.224697 ], \"pop\" : 4478, \"state\" : \"MA\" }\n",
    ",{ \"_id\" : \"01075\", \"city\" : \"SOUTH HADLEY\", \"loc\" : [ -72.581137, 42.237537 ], \"pop\" : 16699, \"state\" : \"MA\" }\n",
    ",{ \"_id\" : \"01077\", \"city\" : \"SOUTHWICK\", \"loc\" : [ -72.770588, 42.051099 ], \"pop\" : 7667, \"state\" : \"MA\" }\n",
    ",{ \"_id\" : \"01080\", \"city\" : \"THREE RIVERS\", \"loc\" : [ -72.362352, 42.181894 ], \"pop\" : 2425, \"state\" : \"MA\" }\n",
    ",{ \"_id\" : \"01081\", \"city\" : \"WALES\", \"loc\" : [ -72.20459200000001, 42.062734 ], \"pop\" : 1732, \"state\" : \"MA\" }\n",
    ",{ \"_id\" : \"01082\", \"city\" : \"WARE\", \"loc\" : [ -72.258285, 42.261831 ], \"pop\" : 9808, \"state\" : \"MA\" }\n",
    ",{ \"_id\" : \"01085\", \"city\" : \"MONTGOMERY\", \"loc\" : [ -72.754318, 42.129484 ], \"pop\" : 40117, \"state\" : \"MA\" }\n",
    ",{ \"_id\" : \"01089\", \"city\" : \"WEST SPRINGFIELD\", \"loc\" : [ -72.641109, 42.115066 ], \"pop\" : 27537, \"state\" : \"MA\" }\n",
    ",{ \"_id\" : \"01092\", \"city\" : \"WEST WARREN\", \"loc\" : [ -72.203639, 42.20734 ], \"pop\" : 4441, \"state\" : \"MA\" }\n",
    ",{ \"_id\" : \"01095\", \"city\" : \"WILBRAHAM\", \"loc\" : [ -72.446415, 42.124506 ], \"pop\" : 12635, \"state\" : \"MA\" }\n",
    ",{ \"_id\" : \"01096\", \"city\" : \"WILLIAMSBURG\", \"loc\" : [ -72.77798900000001, 42.408522 ], \"pop\" : 2295, \"state\" : \"MA\" }\n",
    ",{ \"_id\" : \"01098\", \"city\" : \"WORTHINGTON\", \"loc\" : [ -72.931427, 42.384293 ], \"pop\" : 877, \"state\" : \"MA\" }\n",
    ",{ \"_id\" : \"01103\", \"city\" : \"SPRINGFIELD\", \"loc\" : [ -72.588735, 42.1029 ], \"pop\" : 2323, \"state\" : \"MA\" }\n",
    ",{ \"_id\" : \"01104\", \"city\" : \"SPRINGFIELD\", \"loc\" : [ -72.577769, 42.128848 ], \"pop\" : 22115, \"state\" : \"MA\" }\n",
    ",{ \"_id\" : \"01105\", \"city\" : \"SPRINGFIELD\", \"loc\" : [ -72.578312, 42.099931 ], \"pop\" : 14970, \"state\" : \"MA\" }\n",
    ",{ \"_id\" : \"01106\", \"city\" : \"LONGMEADOW\", \"loc\" : [ -72.5676, 42.050658 ], \"pop\" : 15688, \"state\" : \"MA\" }\n",
    ",{ \"_id\" : \"01107\", \"city\" : \"SPRINGFIELD\", \"loc\" : [ -72.606544, 42.117907 ], \"pop\" : 12739, \"state\" : \"MA\" }\n",
    ",{ \"_id\" : \"01108\", \"city\" : \"SPRINGFIELD\", \"loc\" : [ -72.558432, 42.085314 ], \"pop\" : 25519, \"state\" : \"MA\" }\n",
    ",{ \"_id\" : \"01109\", \"city\" : \"SPRINGFIELD\", \"loc\" : [ -72.554349, 42.114455 ], \"pop\" : 32635, \"state\" : \"MA\" }\n",
    ",{ \"_id\" : \"01118\", \"city\" : \"SPRINGFIELD\", \"loc\" : [ -72.527445, 42.092937 ], \"pop\" : 14618, \"state\" : \"MA\" }\n",
    ",{ \"_id\" : \"01119\", \"city\" : \"SPRINGFIELD\", \"loc\" : [ -72.51211000000001, 42.12473 ], \"pop\" : 13040, \"state\" : \"MA\" }\n",
    ",{ \"_id\" : \"01128\", \"city\" : \"SPRINGFIELD\", \"loc\" : [ -72.48890299999999, 42.094397 ], \"pop\" : 3272, \"state\" : \"MA\" }\n",
    ",{ \"_id\" : \"01129\", \"city\" : \"SPRINGFIELD\", \"loc\" : [ -72.487622, 42.122263 ], \"pop\" : 6831, \"state\" : \"MA\" }\n",
    ",{ \"_id\" : \"01151\", \"city\" : \"INDIAN ORCHARD\", \"loc\" : [ -72.505048, 42.153225 ], \"pop\" : 8702, \"state\" : \"MA\" }\n",
    ",{ \"_id\" : \"01201\", \"city\" : \"PITTSFIELD\", \"loc\" : [ -73.24708800000001, 42.453086 ], \"pop\" : 50655, \"state\" : \"MA\" }\n",
    ",{ \"_id\" : \"01220\", \"city\" : \"ADAMS\", \"loc\" : [ -73.117225, 42.622319 ], \"pop\" : 9901, \"state\" : \"MA\" }\n",
    ",{ \"_id\" : \"01222\", \"city\" : \"ASHLEY FALLS\", \"loc\" : [ -73.320195, 42.059552 ], \"pop\" : 561, \"state\" : \"MA\" }\n",
    ",{ \"_id\" : \"01223\", \"city\" : \"BECKET\", \"loc\" : [ -73.12032499999999, 42.359363 ], \"pop\" : 1070, \"state\" : \"MA\" }\n",
    ",{ \"_id\" : \"01225\", \"city\" : \"CHESHIRE\", \"loc\" : [ -73.15796400000001, 42.561059 ], \"pop\" : 3094, \"state\" : \"MA\" }\n",
    ",{ \"_id\" : \"01226\", \"city\" : \"DALTON\", \"loc\" : [ -73.160259, 42.475046 ], \"pop\" : 7357, \"state\" : \"MA\" }\n",
    ",{ \"_id\" : \"01230\", \"city\" : \"GREAT BARRINGTON\", \"loc\" : [ -73.36065000000001, 42.195922 ], \"pop\" : 10603, \"state\" : \"MA\" }\n",
    ",{ \"_id\" : \"01235\", \"city\" : \"PERU\", \"loc\" : [ -73.092433, 42.434604 ], \"pop\" : 2559, \"state\" : \"MA\" }\n",
    ",{ \"_id\" : \"01236\", \"city\" : \"HOUSATONIC\", \"loc\" : [ -73.374544, 42.265296 ], \"pop\" : 802, \"state\" : \"MA\" }\n",
    ",{ \"_id\" : \"01237\", \"city\" : \"HANCOCK\", \"loc\" : [ -73.24873700000001, 42.541961 ], \"pop\" : 2328, \"state\" : \"MA\" }\n",
    ",{ \"_id\" : \"01238\", \"city\" : \"LEE\", \"loc\" : [ -73.231696, 42.298994 ], \"pop\" : 6916, \"state\" : \"MA\" }\n",
    ",{ \"_id\" : \"01240\", \"city\" : \"LENOX\", \"loc\" : [ -73.271322, 42.364241 ], \"pop\" : 5001, \"state\" : \"MA\" }\n",
    ",{ \"_id\" : \"01243\", \"city\" : \"MIDDLEFIELD\", \"loc\" : [ -73.006226, 42.34795 ], \"pop\" : 384, \"state\" : \"MA\" }\n",
    ",{ \"_id\" : \"01245\", \"city\" : \"WEST OTIS\", \"loc\" : [ -73.213452, 42.187847 ], \"pop\" : 329, \"state\" : \"MA\" }\n",
    ",{ \"_id\" : \"01247\", \"city\" : \"CLARKSBURG\", \"loc\" : [ -73.10999, 42.69865 ], \"pop\" : 19054, \"state\" : \"MA\" }\n",
    ",{ \"_id\" : \"01253\", \"city\" : \"OTIS\", \"loc\" : [ -73.082093, 42.18988 ], \"pop\" : 1060, \"state\" : \"MA\" }\n",
    ",{ \"_id\" : \"01254\", \"city\" : \"RICHMOND\", \"loc\" : [ -73.364457, 42.378398 ], \"pop\" : 1134, \"state\" : \"MA\" }\n",
    ",{ \"_id\" : \"01255\", \"city\" : \"SANDISFIELD\", \"loc\" : [ -73.116285, 42.109429 ], \"pop\" : 651, \"state\" : \"MA\" }\n",
    ",{ \"_id\" : \"01256\", \"city\" : \"SAVOY\", \"loc\" : [ -73.023281, 42.576964 ], \"pop\" : 632, \"state\" : \"MA\" }\n",
    ",{ \"_id\" : \"01257\", \"city\" : \"SHEFFIELD\", \"loc\" : [ -73.361091, 42.100102 ], \"pop\" : 1839, \"state\" : \"MA\" }\n",
    ",{ \"_id\" : \"01258\", \"city\" : \"SOUTH EGREMONT\", \"loc\" : [ -73.456575, 42.101153 ], \"pop\" : 135, \"state\" : \"MA\" }\n",
    ",{ \"_id\" : \"01259\", \"city\" : \"SOUTHFIELD\", \"loc\" : [ -73.26093299999999, 42.078014 ], \"pop\" : 622, \"state\" : \"MA\" }\n",
    ",{ \"_id\" : \"01262\", \"city\" : \"STOCKBRIDGE\", \"loc\" : [ -73.32226300000001, 42.30104 ], \"pop\" : 2200, \"state\" : \"MA\" }\n",
    ",{ \"_id\" : \"01266\", \"city\" : \"WEST STOCKBRIDGE\", \"loc\" : [ -73.38251, 42.334752 ], \"pop\" : 1173, \"state\" : \"MA\" }\n",
    ",{ \"_id\" : \"01267\", \"city\" : \"WILLIAMSTOWN\", \"loc\" : [ -73.20363999999999, 42.708883 ], \"pop\" : 8220, \"state\" : \"MA\" }\n",
    ",{ \"_id\" : \"01270\", \"city\" : \"WINDSOR\", \"loc\" : [ -73.04661, 42.509494 ], \"pop\" : 770, \"state\" : \"MA\" }\n",
    ",{ \"_id\" : \"01301\", \"city\" : \"LEYDEN\", \"loc\" : [ -72.60184700000001, 42.601222 ], \"pop\" : 18968, \"state\" : \"MA\" }\n",
    ",{ \"_id\" : \"01330\", \"city\" : \"ASHFIELD\", \"loc\" : [ -72.810998, 42.523207 ], \"pop\" : 1535, \"state\" : \"MA\" }\n",
    ",{ \"_id\" : \"01331\", \"city\" : \"NEW SALEM\", \"loc\" : [ -72.21464400000001, 42.592065 ], \"pop\" : 14077, \"state\" : \"MA\" }\n",
    ",{ \"_id\" : \"01337\", \"city\" : \"LEYDEN\", \"loc\" : [ -72.563439, 42.683784 ], \"pop\" : 2426, \"state\" : \"MA\" }\n",
    ",{ \"_id\" : \"01338\", \"city\" : \"BUCKLAND\", \"loc\" : [ -72.764124, 42.615174 ], \"pop\" : 16, \"state\" : \"MA\" }\n",
    ",{ \"_id\" : \"01339\", \"city\" : \"HAWLEY\", \"loc\" : [ -72.880162, 42.621802 ], \"pop\" : 1325, \"state\" : \"MA\" }\n",
    ",{ \"_id\" : \"01340\", \"city\" : \"COLRAIN\", \"loc\" : [ -72.726508, 42.67905 ], \"pop\" : 2050, \"state\" : \"MA\" }\n",
    ",{ \"_id\" : \"01341\", \"city\" : \"CONWAY\", \"loc\" : [ -72.702473, 42.513832 ], \"pop\" : 1524, \"state\" : \"MA\" }\n",
    ",{ \"_id\" : \"01342\", \"city\" : \"DEERFIELD\", \"loc\" : [ -72.60723400000001, 42.540636 ], \"pop\" : 1281, \"state\" : \"LA\" }\n",
    ",{ \"_id\" : \"01344\", \"city\" : \"ERVING\", \"loc\" : [ -72.41663800000001, 42.604957 ], \"pop\" : 635, \"state\" : \"LA\" }\n",
    ",{ \"_id\" : \"01346\", \"city\" : \"HEATH\", \"loc\" : [ -72.839101, 42.685347 ], \"pop\" : 174, \"state\" : \"MA\" }\n",
    ",{ \"_id\" : \"01349\", \"city\" : \"MILLERS FALLS\", \"loc\" : [ -72.494626, 42.576206 ], \"pop\" : 1893, \"state\" : \"CA\" }\n",
    ",{ \"_id\" : \"01350\", \"city\" : \"MONROE\", \"loc\" : [ -72.960156, 42.723885 ], \"pop\" : 97, \"state\" : \"CA\" }\n",
    ",{ \"_id\" : \"01351\", \"city\" : \"MONTAGUE\", \"loc\" : [ -72.532837, 42.542864 ], \"pop\" : 1699, \"state\" : \"CA\" }\n",
    ",{ \"_id\" : \"01355\", \"city\" : \"NEW SALEM\", \"loc\" : [ -72.306241, 42.514643 ], \"pop\" : 456, \"state\" : \"MA\" }\n",
    ",{ \"_id\" : \"01360\", \"city\" : \"NORTHFIELD\", \"loc\" : [ -72.45099500000001, 42.688705 ], \"pop\" : 2829, \"state\" : \"DL\" }\n",
    ",{ \"_id\" : \"01364\", \"city\" : \"NEW SALEM\", \"loc\" : [ -72.30586700000001, 42.591231 ], \"pop\" : 8544, \"state\" : \"DL\" }\n",
    ",{ \"_id\" : \"01366\", \"city\" : \"PETERSHAM\", \"loc\" : [ -72.18934900000001, 42.489761 ], \"pop\" : 1131, \"state\" : \"DL\" }\n",
    ",{ \"_id\" : \"01367\", \"city\" : \"ROWE\", \"loc\" : [ -72.925776, 42.695289 ], \"pop\" : 630, \"state\" : \"MA\" }\n",
    ",{ \"_id\" : \"01370\", \"city\" : \"SHELBURNE FALLS\", \"loc\" : [ -72.739059, 42.602203 ], \"pop\" : 4525, \"state\" : \"MA\" }\n",
    ",{ \"_id\" : \"01373\", \"city\" : \"SOUTH DEERFIELD\", \"loc\" : [ -72.615268, 42.475616 ], \"pop\" : 5118, \"state\" : \"MA\" }\n",
    ",{ \"_id\" : \"01375\", \"city\" : \"SUNDERLAND\", \"loc\" : [ -72.56756900000001, 42.453947 ], \"pop\" : 3399, \"state\" : \"PA\" }\n",
    ",{ \"_id\" : \"01376\", \"city\" : \"TURNERS FALLS\", \"loc\" : [ -72.54701, 42.606521 ], \"pop\" : 7100, \"state\" : \"PA\" }\n",
    ",{ \"_id\" : \"01379\", \"city\" : \"WENDELL\", \"loc\" : [ -72.400851, 42.565644 ], \"pop\" : 393, \"state\" : \"MA\" }\n",
    ",{ \"_id\" : \"01420\", \"city\" : \"FITCHBURG\", \"loc\" : [ -71.803133, 42.579563 ], \"pop\" : 41194, \"state\" : \"PA\" }\n",
    ",{ \"_id\" : \"01430\", \"city\" : \"ASHBURNHAM\", \"loc\" : [ -71.92666, 42.649614 ], \"pop\" : 5433, \"state\" : \"PA\" }\n",
    ",{ \"_id\" : \"01431\", \"city\" : \"ASHBY\", \"loc\" : [ -71.817369, 42.674462 ], \"pop\" : 2649, \"state\" : \"MA\" }\n",
    ",{ \"_id\" : \"01432\", \"city\" : \"AYER\", \"loc\" : [ -71.578763, 42.55914 ], \"pop\" : 6871, \"state\" : \"MA\" }\n",
    ",{ \"_id\" : \"01433\", \"city\" : \"FT DEVENS\", \"loc\" : [ -71.621819, 42.532416 ], \"pop\" : 8480, \"state\" : \"MA\" }\n",
    ",{ \"_id\" : \"01436\", \"city\" : \"BALDWINVILLE\", \"loc\" : [ -72.06464699999999, 42.593568 ], \"pop\" : 4386, \"state\" : \"NY\" }\n",
    ",{ \"_id\" : \"01440\", \"city\" : \"GARDNER\", \"loc\" : [ -71.9898, 42.57405 ], \"pop\" : 20125, \"state\" : \"MA\" }\n",
    ",{ \"_id\" : \"01450\", \"city\" : \"GROTON\", \"loc\" : [ -71.55837099999999, 42.612351 ], \"pop\" : 7504, \"state\" : \"NY\" }\n",
    ",{ \"_id\" : \"01451\", \"city\" : \"HARVARD\", \"loc\" : [ -71.575293, 42.498565 ], \"pop\" : 4445, \"state\" : \"MA\" }\n",
    ",{ \"_id\" : \"01452\", \"city\" : \"HUBBARDSTON\", \"loc\" : [ -72.001159, 42.486538 ], \"pop\" : 2797, \"state\" : \"NY\" }\n",
    ",{ \"_id\" : \"01453\", \"city\" : \"LEOMINSTER\", \"loc\" : [ -71.756308, 42.52744 ], \"pop\" : 38145, \"state\" : \"MA\" }\n",
    ",{ \"_id\" : \"01460\", \"city\" : \"LITTLETON\", \"loc\" : [ -71.487667, 42.540132 ], \"pop\" : 7066, \"state\" : \"NY\" }\n",
    ",{ \"_id\" : \"01462\", \"city\" : \"LUNENBURG\", \"loc\" : [ -71.726642, 42.58843 ], \"pop\" : 9117, \"state\" : \"NY\" }\n",
    ",{ \"_id\" : \"01740\", \"city\" : \"BOLTON\", \"loc\" : [ -71.60759299999999, 42.436523 ], \"pop\" : 3134, \"state\" : \"NJ\" }\n",
    ",{ \"_id\" : \"01741\", \"city\" : \"CARLISLE\", \"loc\" : [ -71.35189200000001, 42.528562 ], \"pop\" : 4333, \"state\" : \"MA\" }\n",
    ",{ \"_id\" : \"01742\", \"city\" : \"CONCORD\", \"loc\" : [ -71.374741, 42.456701 ], \"pop\" : 17076, \"state\" : \"MA\" }\n",
    ",{ \"_id\" : \"01745\", \"city\" : \"SOUTHBOROUGH\", \"loc\" : [ -71.502256, 42.293221 ], \"pop\" : 506, \"state\" : \"MA\" }\n",
    ",{ \"_id\" : \"01746\", \"city\" : \"HOLLISTON\", \"loc\" : [ -71.436059, 42.202641 ], \"pop\" : 12917, \"state\" : \"MI\" }\n",
    ",{ \"_id\" : \"01747\", \"city\" : \"HOPEDALE\", \"loc\" : [ -71.537601, 42.126796 ], \"pop\" : 5649, \"state\" : \"MI\" }\n",
    ",{ \"_id\" : \"01748\", \"city\" : \"HOPKINTON\", \"loc\" : [ -71.53017800000001, 42.219046 ], \"pop\" : 9191, \"state\" : \"MI\" }\n",
    ",{ \"_id\" : \"01749\", \"city\" : \"HUDSON\", \"loc\" : [ -71.560896, 42.391796 ], \"pop\" : 17233, \"state\" : \"MA\" }\n",
    ",{ \"_id\" : \"01752\", \"city\" : \"MARLBOROUGH\", \"loc\" : [ -71.54335500000001, 42.350861 ], \"pop\" : 31813, \"state\" : \"NJ\" }\n",
    ",{ \"_id\" : \"01754\", \"city\" : \"MAYNARD\", \"loc\" : [ -71.454975, 42.432118 ], \"pop\" : 10325, \"state\" : \"NJ\" }\n",
    "]"
   ]
  },
  {
   "cell_type": "code",
   "execution_count": 20,
   "metadata": {},
   "outputs": [
    {
     "data": {
      "text/plain": [
       "<pymongo.results.InsertManyResult at 0xe743e88>"
      ]
     },
     "execution_count": 20,
     "metadata": {},
     "output_type": "execute_result"
    }
   ],
   "source": [
    "db.zipcodes.insert_many(test)\n"
   ]
  },
  {
   "cell_type": "code",
   "execution_count": 22,
   "metadata": {},
   "outputs": [],
   "source": [
    "#sum of population\n",
    "a = db.zipcodes.aggregate( [\n",
    "   { \"$group\": { \"_id\": \"$state\", \"totalPop\": { \"$sum\": \"$pop\" } } },\n",
    "   { \"$match\": { \"totalPop\": { \"$gte\": 10*100 } } }\n",
    "] )"
   ]
  },
  {
   "cell_type": "markdown",
   "metadata": {},
   "source": [
    "SELECT state, SUM(pop) AS totalPop\n",
    "FROM zipcodes\n",
    "GROUP BY state\n",
    "HAVING totalPop >= (10*100)"
   ]
  },
  {
   "cell_type": "code",
   "execution_count": 23,
   "metadata": {},
   "outputs": [
    {
     "data": {
      "text/plain": [
       "[{u'_id': u'PA', u'totalPop': 57126},\n",
       " {u'_id': u'DL', u'totalPop': 12504},\n",
       " {u'_id': u'NJ', u'totalPop': 57124},\n",
       " {u'_id': u'MA', u'totalPop': 839466},\n",
       " {u'_id': u'LA', u'totalPop': 14180},\n",
       " {u'_id': u'NY', u'totalPop': 88921},\n",
       " {u'_id': u'MI', u'totalPop': 27757},\n",
       " {u'_id': u'CA', u'totalPop': 12969}]"
      ]
     },
     "execution_count": 23,
     "metadata": {},
     "output_type": "execute_result"
    }
   ],
   "source": [
    "list(a)"
   ]
  },
  {
   "cell_type": "code",
   "execution_count": 30,
   "metadata": {},
   "outputs": [
    {
     "data": {
      "text/plain": [
       "[{u'_id': u'PA'},\n",
       " {u'_id': u'DL'},\n",
       " {u'_id': u'NJ'},\n",
       " {u'_id': u'MA'},\n",
       " {u'_id': u'LA'},\n",
       " {u'_id': u'NY'},\n",
       " {u'_id': u'MI'},\n",
       " {u'_id': u'CA'}]"
      ]
     },
     "execution_count": 30,
     "metadata": {},
     "output_type": "execute_result"
    }
   ],
   "source": [
    "#distinct States\n",
    "dist = db.zipcodes.aggregate( [ { \"$group\" : { \"_id\" : \"$state\" } } ] )\n",
    "list(dist)"
   ]
  },
  {
   "cell_type": "code",
   "execution_count": 24,
   "metadata": {
    "collapsed": true
   },
   "outputs": [],
   "source": [
    "#average population\n",
    "avgpop=db.zipcodes.aggregate( [\n",
    "   { \"$group\": { \"_id\": { \"state\": \"$state\", \"city\": \"$city\" }, \"pop\": { \"$sum\": \"$pop\" } } },\n",
    "   { \"$group\": { \"_id\": \"$_id.state\", \"avgCityPop\": { \"$avg\": \"$pop\" } } }\n",
    "] )"
   ]
  },
  {
   "cell_type": "code",
   "execution_count": 25,
   "metadata": {},
   "outputs": [
    {
     "data": {
      "text/plain": [
       "[{u'_id': u'DL', u'avgCityPop': 4168.0},\n",
       " {u'_id': u'PA', u'avgCityPop': 14281.5},\n",
       " {u'_id': u'NJ', u'avgCityPop': 9520.666666666666},\n",
       " {u'_id': u'LA', u'avgCityPop': 2363.3333333333335},\n",
       " {u'_id': u'MA', u'avgCityPop': 10237.390243902439},\n",
       " {u'_id': u'NY', u'avgCityPop': 8892.1},\n",
       " {u'_id': u'CA', u'avgCityPop': 2161.5},\n",
       " {u'_id': u'MI', u'avgCityPop': 9252.333333333334}]"
      ]
     },
     "execution_count": 25,
     "metadata": {},
     "output_type": "execute_result"
    }
   ],
   "source": [
    "list(avgpop)"
   ]
  },
  {
   "cell_type": "code",
   "execution_count": 27,
   "metadata": {},
   "outputs": [],
   "source": [
    "#big and small \n",
    "\n",
    "bs = db.zipcodes.aggregate( [\n",
    "   { \"$group\":\n",
    "      {\n",
    "        \"_id\": { \"state\": \"$state\", \"city\": \"$city\" },\n",
    "        \"pop\": { \"$sum\": \"$pop\" }\n",
    "      }\n",
    "   },\n",
    "   { \"$sort\": { \"pop\": 1 } },\n",
    "   { \"$group\":\n",
    "      {\n",
    "        \"_id\" : \"$_id.state\",\n",
    "        \"biggestCity\":  { \"$last\": \"$_id.city\" },\n",
    "        \"biggestPop\":   { \"$last\": \"$pop\" },\n",
    "        \"smallestCity\": { \"$first\": \"$_id.city\" },\n",
    "        \"smallestPop\":  { \"$first\": \"$pop\" }\n",
    "      }\n",
    "   }])"
   ]
  },
  {
   "cell_type": "code",
   "execution_count": 28,
   "metadata": {},
   "outputs": [
    {
     "data": {
      "text/plain": [
       "[{u'_id': u'PA',\n",
       "  u'biggestCity': u'FITCHBURG',\n",
       "  u'biggestPop': 41194,\n",
       "  u'smallestCity': u'SUNDERLAND',\n",
       "  u'smallestPop': 3399},\n",
       " {u'_id': u'DL',\n",
       "  u'biggestCity': u'NEW SALEM',\n",
       "  u'biggestPop': 8544,\n",
       "  u'smallestCity': u'PETERSHAM',\n",
       "  u'smallestPop': 1131},\n",
       " {u'_id': u'NY',\n",
       "  u'biggestCity': u'FLORENCE',\n",
       "  u'biggestPop': 27939,\n",
       "  u'smallestCity': u'LEEDS',\n",
       "  u'smallestPop': 1350},\n",
       " {u'_id': u'MA',\n",
       "  u'biggestCity': u'SPRINGFIELD',\n",
       "  u'biggestPop': 148062,\n",
       "  u'smallestCity': u'BUCKLAND',\n",
       "  u'smallestPop': 16},\n",
       " {u'_id': u'LA',\n",
       "  u'biggestCity': u'GRANBY',\n",
       "  u'biggestPop': 5526,\n",
       "  u'smallestCity': u'GOSHEN',\n",
       "  u'smallestPop': 122},\n",
       " {u'_id': u'MI',\n",
       "  u'biggestCity': u'HOLLISTON',\n",
       "  u'biggestPop': 12917,\n",
       "  u'smallestCity': u'HOPEDALE',\n",
       "  u'smallestPop': 5649},\n",
       " {u'_id': u'CA',\n",
       "  u'biggestCity': u'HAMPDEN',\n",
       "  u'biggestPop': 4709,\n",
       "  u'smallestCity': u'MONROE',\n",
       "  u'smallestPop': 97},\n",
       " {u'_id': u'NJ',\n",
       "  u'biggestCity': u'MARLBOROUGH',\n",
       "  u'biggestPop': 31813,\n",
       "  u'smallestCity': u'PLAINFIELD',\n",
       "  u'smallestPop': 571}]"
      ]
     },
     "execution_count": 28,
     "metadata": {},
     "output_type": "execute_result"
    }
   ],
   "source": [
    "list(bs)"
   ]
  },
  {
   "cell_type": "code",
   "execution_count": 32,
   "metadata": {},
   "outputs": [],
   "source": [
    "xyz = db.zipcodes.aggregate(\n",
    "   [\n",
    "     { \"$group\" : { \"_id\" : \"$state\", \"cities\": { \"$push\": \"$city\" } } }\n",
    "   ]\n",
    ")"
   ]
  },
  {
   "cell_type": "code",
   "execution_count": 33,
   "metadata": {},
   "outputs": [
    {
     "data": {
      "text/plain": [
       "[{u'_id': u'PA',\n",
       "  u'cities': [u'SUNDERLAND', u'TURNERS FALLS', u'FITCHBURG', u'ASHBURNHAM']},\n",
       " {u'_id': u'DL', u'cities': [u'NORTHFIELD', u'NEW SALEM', u'PETERSHAM']},\n",
       " {u'_id': u'NJ',\n",
       "  u'cities': [u'OAKHAM',\n",
       "   u'PALMER',\n",
       "   u'PLAINFIELD',\n",
       "   u'BOLTON',\n",
       "   u'MARLBOROUGH',\n",
       "   u'MAYNARD']},\n",
       " {u'_id': u'MA',\n",
       "  u'cities': [u'AGAWAM',\n",
       "   u'CUSHMAN',\n",
       "   u'BARRE',\n",
       "   u'BELCHERTOWN',\n",
       "   u'BLANDFORD',\n",
       "   u'BRIMFIELD',\n",
       "   u'CHESTER',\n",
       "   u'CHESTERFIELD',\n",
       "   u'CHICOPEE',\n",
       "   u'CHICOPEE',\n",
       "   u'WESTOVER AFB',\n",
       "   u'CUMMINGTON',\n",
       "   u'MOUNT TOM',\n",
       "   u'EAST LONGMEADOW',\n",
       "   u'FEEDING HILLS',\n",
       "   u'TOLLAND',\n",
       "   u'HOLYOKE',\n",
       "   u'HUNTINGTON',\n",
       "   u'RUSSELL',\n",
       "   u'SHUTESBURY',\n",
       "   u'SOUTHAMPTON',\n",
       "   u'SOUTH HADLEY',\n",
       "   u'SOUTHWICK',\n",
       "   u'THREE RIVERS',\n",
       "   u'WALES',\n",
       "   u'WARE',\n",
       "   u'MONTGOMERY',\n",
       "   u'WEST SPRINGFIELD',\n",
       "   u'WEST WARREN',\n",
       "   u'WILBRAHAM',\n",
       "   u'WILLIAMSBURG',\n",
       "   u'WORTHINGTON',\n",
       "   u'SPRINGFIELD',\n",
       "   u'SPRINGFIELD',\n",
       "   u'SPRINGFIELD',\n",
       "   u'LONGMEADOW',\n",
       "   u'SPRINGFIELD',\n",
       "   u'SPRINGFIELD',\n",
       "   u'SPRINGFIELD',\n",
       "   u'SPRINGFIELD',\n",
       "   u'SPRINGFIELD',\n",
       "   u'SPRINGFIELD',\n",
       "   u'SPRINGFIELD',\n",
       "   u'INDIAN ORCHARD',\n",
       "   u'PITTSFIELD',\n",
       "   u'ADAMS',\n",
       "   u'ASHLEY FALLS',\n",
       "   u'BECKET',\n",
       "   u'CHESHIRE',\n",
       "   u'DALTON',\n",
       "   u'GREAT BARRINGTON',\n",
       "   u'PERU',\n",
       "   u'HOUSATONIC',\n",
       "   u'HANCOCK',\n",
       "   u'LEE',\n",
       "   u'LENOX',\n",
       "   u'MIDDLEFIELD',\n",
       "   u'WEST OTIS',\n",
       "   u'CLARKSBURG',\n",
       "   u'OTIS',\n",
       "   u'RICHMOND',\n",
       "   u'SANDISFIELD',\n",
       "   u'SAVOY',\n",
       "   u'SHEFFIELD',\n",
       "   u'SOUTH EGREMONT',\n",
       "   u'SOUTHFIELD',\n",
       "   u'STOCKBRIDGE',\n",
       "   u'WEST STOCKBRIDGE',\n",
       "   u'WILLIAMSTOWN',\n",
       "   u'WINDSOR',\n",
       "   u'LEYDEN',\n",
       "   u'ASHFIELD',\n",
       "   u'NEW SALEM',\n",
       "   u'LEYDEN',\n",
       "   u'BUCKLAND',\n",
       "   u'HAWLEY',\n",
       "   u'COLRAIN',\n",
       "   u'CONWAY',\n",
       "   u'HEATH',\n",
       "   u'NEW SALEM',\n",
       "   u'ROWE',\n",
       "   u'SHELBURNE FALLS',\n",
       "   u'SOUTH DEERFIELD',\n",
       "   u'WENDELL',\n",
       "   u'ASHBY',\n",
       "   u'AYER',\n",
       "   u'FT DEVENS',\n",
       "   u'GARDNER',\n",
       "   u'HARVARD',\n",
       "   u'LEOMINSTER',\n",
       "   u'CARLISLE',\n",
       "   u'CONCORD',\n",
       "   u'SOUTHBOROUGH',\n",
       "   u'HUDSON']},\n",
       " {u'_id': u'LA',\n",
       "  u'cities': [u'GILBERTVILLE',\n",
       "   u'GOSHEN',\n",
       "   u'GRANBY',\n",
       "   u'HADLEY',\n",
       "   u'DEERFIELD',\n",
       "   u'ERVING']},\n",
       " {u'_id': u'NY',\n",
       "  u'cities': [u'LEEDS',\n",
       "   u'LEVERETT',\n",
       "   u'LUDLOW',\n",
       "   u'MONSON',\n",
       "   u'FLORENCE',\n",
       "   u'BALDWINVILLE',\n",
       "   u'GROTON',\n",
       "   u'HUBBARDSTON',\n",
       "   u'LITTLETON',\n",
       "   u'LUNENBURG']},\n",
       " {u'_id': u'MI', u'cities': [u'HOLLISTON', u'HOPEDALE', u'HOPKINTON']},\n",
       " {u'_id': u'CA',\n",
       "  u'cities': [u'HAMPDEN',\n",
       "   u'HATFIELD',\n",
       "   u'HAYDENVILLE',\n",
       "   u'MILLERS FALLS',\n",
       "   u'MONROE',\n",
       "   u'MONTAGUE']}]"
      ]
     },
     "execution_count": 33,
     "metadata": {},
     "output_type": "execute_result"
    }
   ],
   "source": [
    "list(xyz)"
   ]
  }
 ],
 "metadata": {
  "kernelspec": {
   "display_name": "Python 3",
   "language": "python",
   "name": "python3"
  },
  "language_info": {
   "codemirror_mode": {
    "name": "ipython",
    "version": 3
   },
   "file_extension": ".py",
   "mimetype": "text/x-python",
   "name": "python",
   "nbconvert_exporter": "python",
   "pygments_lexer": "ipython3",
   "version": "3.6.4"
  },
  "toc": {
   "base_numbering": 1,
   "nav_menu": {},
   "number_sections": true,
   "sideBar": true,
   "skip_h1_title": false,
   "title_cell": "Table of Contents",
   "title_sidebar": "Contents",
   "toc_cell": false,
   "toc_position": {},
   "toc_section_display": true,
   "toc_window_display": false
  }
 },
 "nbformat": 4,
 "nbformat_minor": 1
}
